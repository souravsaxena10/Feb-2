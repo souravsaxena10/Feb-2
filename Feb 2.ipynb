{
 "cells": [
  {
   "cell_type": "markdown",
   "id": "46cf323e-141e-4e6b-8440-9a13508d6093",
   "metadata": {},
   "source": [
    "Assignment 2"
   ]
  },
  {
   "cell_type": "markdown",
   "id": "4e1ffc5a-1ec0-488b-8176-9d3ea4303902",
   "metadata": {},
   "source": [
    "Ans 1 These tuples are an ordered collection of elements of different data types. \n",
    "Furthermore, we represent them by writing the elements inside the parenthesis separated by commas. \n",
    "We can also define tuples as lists that we cannot change. Therefore, we can call them immutable tuples"
   ]
  },
  {
   "cell_type": "markdown",
   "id": "21b8ec4d-dff9-47b8-a1d2-6ea49e6be21b",
   "metadata": {},
   "source": [
    "Ans 2 tuples cointain 2 types of inbuilt function:\n",
    "1 count()\n",
    "2 index()\n"
   ]
  },
  {
   "cell_type": "markdown",
   "id": "7f584cc1-983d-4626-9d08-cdcb273b7375",
   "metadata": {},
   "source": [
    "For example\n"
   ]
  },
  {
   "cell_type": "code",
   "execution_count": null,
   "id": "cac6cce0-e294-43b4-b6ae-f2ddeaa94441",
   "metadata": {},
   "outputs": [],
   "source": [
    "tu=(45,65,45,85)"
   ]
  },
  {
   "cell_type": "code",
   "execution_count": null,
   "id": "4357a9b8-cb0f-49ba-81dd-335848d3bbd3",
   "metadata": {},
   "outputs": [],
   "source": [
    "tu.count(45)\n",
    "tu.index(0)"
   ]
  },
  {
   "cell_type": "markdown",
   "id": "c9216663-d35c-4f67-b845-e61183e530d7",
   "metadata": {},
   "source": [
    "Because tuples is immutable."
   ]
  },
  {
   "cell_type": "code",
   "execution_count": null,
   "id": "0e820ec3-0fd1-48fd-a508-c447e894149a",
   "metadata": {},
   "outputs": [],
   "source": [
    "Ans 3 \n",
    "List = [1, 1, 1, 2, 1, 3, 1, 4, 2, 1, 2, 2, 2, 3, 2, 4, 3, 1, 3, 2, 3, 3, 3, 4, 4, 1, 4, 2, 4, 3, 4, 4]\n",
    "set(List)"
   ]
  },
  {
   "cell_type": "markdown",
   "id": "b8cadac7-d5f1-475c-87d3-a368f771f784",
   "metadata": {},
   "source": [
    "Ans 4 update() adds all missing elements to the set on which it is called whereas set. union() creates a new set."
   ]
  },
  {
   "cell_type": "code",
   "execution_count": null,
   "id": "d453229d-7017-4289-8175-bb49c3ea5a26",
   "metadata": {},
   "outputs": [],
   "source": [
    "A = {2, 4, 5, 6}\n",
    "B = {4, 6, 7, 8}\n",
    "\n",
    "print(A.union(B))\n"
   ]
  },
  {
   "cell_type": "code",
   "execution_count": null,
   "id": "1784553d-84c9-4fed-aef3-233282953fa8",
   "metadata": {},
   "outputs": [],
   "source": [
    "A.update('44')"
   ]
  },
  {
   "cell_type": "markdown",
   "id": "12687842-34ed-42b8-9bb0-2ae5209f0cfb",
   "metadata": {},
   "source": [
    "Ans 5 A dictionary is a collection of key-value pairs that allows fast access to the values based on their associated keys. A key is a unique identifier that is used to retrieve the associated value\n",
    "For example :"
   ]
  },
  {
   "cell_type": "code",
   "execution_count": null,
   "id": "c2ee0a49-35c9-4ef1-a688-4a2ef3758089",
   "metadata": {},
   "outputs": [],
   "source": [
    "my_dict = {'apple': 1, 'banana': 2, 'orange': 3}\n"
   ]
  },
  {
   "cell_type": "code",
   "execution_count": null,
   "id": "dc10fa16-0362-41b9-b163-375195a086bc",
   "metadata": {},
   "outputs": [],
   "source": [
    " dictionaries are unordered"
   ]
  },
  {
   "cell_type": "markdown",
   "id": "599e10fe-4f38-4ee2-ba4b-03fa249b61f3",
   "metadata": {},
   "source": [
    "Ans 6 yes we can create nested dictinories."
   ]
  },
  {
   "cell_type": "code",
   "execution_count": null,
   "id": "a35d09ed-1b49-4085-bd09-f82e4ec2030d",
   "metadata": {},
   "outputs": [],
   "source": [
    "my_dict = {'fruit': {'apple': 1, 'banana': 2, 'orange': 3}, 'vegetable': {'carrot': 4, 'broccoli': 5}}\n"
   ]
  },
  {
   "cell_type": "markdown",
   "id": "25bba2dc-6349-4fa4-80f0-cbee4b2de8af",
   "metadata": {},
   "source": [
    "Ans 7 "
   ]
  },
  {
   "cell_type": "code",
   "execution_count": null,
   "id": "91712931-faf1-4457-910d-bd14e7b2eb0f",
   "metadata": {},
   "outputs": [],
   "source": [
    "dict1 = {'language' : 'Python', 'course': 'Data Science Masters'}\n",
    "\n",
    "dict1.setdefault('topics', ['Python', 'Machine Learning', 'Deep Learning'])\n",
    "print(dict1)\n"
   ]
  },
  {
   "cell_type": "markdown",
   "id": "30e985ad-cfe0-458c-aee2-7c7f9375e8c8",
   "metadata": {},
   "source": [
    "Ans 8\n"
   ]
  },
  {
   "cell_type": "code",
   "execution_count": null,
   "id": "d9a1ed2c-0df7-4e5a-bedf-46b24d5bbd0b",
   "metadata": {},
   "outputs": [],
   "source": [
    "dict1 = {'Sport': 'Cricket' , 'Teams': ['India', 'Australia', 'England', 'South Africa', 'Sri Lanka', 'New Zealand']}\n",
    "\n",
    "keys_view = dict1.keys()\n",
    "\n",
    "values_view = dict1.values()\n",
    "\n",
    "items_view = dict1.items()\n",
    "\n",
    "print(keys_view)\n",
    "print(values_view)\n",
    "print(items_view)\n"
   ]
  }
 ],
 "metadata": {
  "kernelspec": {
   "display_name": "Python 3 (ipykernel)",
   "language": "python",
   "name": "python3"
  },
  "language_info": {
   "codemirror_mode": {
    "name": "ipython",
    "version": 3
   },
   "file_extension": ".py",
   "mimetype": "text/x-python",
   "name": "python",
   "nbconvert_exporter": "python",
   "pygments_lexer": "ipython3",
   "version": "3.10.8"
  }
 },
 "nbformat": 4,
 "nbformat_minor": 5
}
